{
  "nbformat": 4,
  "nbformat_minor": 0,
  "metadata": {
    "colab": {
      "name": "Padding_and_Strides.ipynb",
      "provenance": [],
      "authorship_tag": "ABX9TyPDjwkCVe86xuNRfaqGr81w",
      "include_colab_link": true
    },
    "kernelspec": {
      "name": "python3",
      "display_name": "Python 3"
    },
    "language_info": {
      "name": "python"
    }
  },
  "cells": [
    {
      "cell_type": "markdown",
      "metadata": {
        "id": "view-in-github",
        "colab_type": "text"
      },
      "source": [
        "<a href=\"https://colab.research.google.com/github/answjddn005/Pytorch-Practice/blob/main/Padding_and_Strides.ipynb\" target=\"_parent\"><img src=\"https://colab.research.google.com/assets/colab-badge.svg\" alt=\"Open In Colab\"/></a>"
      ]
    },
    {
      "cell_type": "code",
      "execution_count": 1,
      "metadata": {
        "colab": {
          "base_uri": "https://localhost:8080/"
        },
        "id": "t6UT_paQnT7Y",
        "outputId": "7108876c-cb05-4906-a73c-092be07466db"
      },
      "outputs": [
        {
          "output_type": "stream",
          "name": "stdout",
          "text": [
            "pooled_max(tensorflow): (1, 2, 2, 3)\n",
            "[[[ 1.2082498e+00  6.0986304e-01]\n",
            "  [ 4.8764345e-01 -6.6759837e-01]]\n",
            "\n",
            " [[ 3.6931297e-01  7.3507226e-01]\n",
            "  [-3.6365777e-04  2.5550447e+00]]\n",
            "\n",
            " [[ 1.7295411e-01  4.1474795e-01]\n",
            "  [-2.4190348e-01  4.6843275e-01]]]\n",
            "pooled_max(Manual): (2, 2, 3)\n",
            "[[[ 1.20824981e+00  6.09863043e-01]\n",
            "  [ 4.87643450e-01 -6.67598367e-01]]\n",
            "\n",
            " [[ 3.69312972e-01  7.35072255e-01]\n",
            "  [-3.63657775e-04  2.55504465e+00]]\n",
            "\n",
            " [[ 1.72954112e-01  4.14747953e-01]\n",
            "  [-2.41903484e-01  4.68432754e-01]]]\n"
          ]
        }
      ],
      "source": [
        "import math\n",
        "import numpy as np\n",
        "import tensorflow as tf\n",
        "\n",
        "from tensorflow.keras.layers import MaxPooling2D\n",
        "\n",
        "N, n_H, n_W, n_C = 1, 5, 5, 3\n",
        "f, s = 2, 2\n",
        "\n",
        "x = tf.random.normal(shape=(N, n_H, n_W, n_C))\n",
        "# print((\"x: {}\\n{}\".format(x.shape,\n",
        "#                           np.transpose(x.numpy(ㅁㅁㅁㅁ).squeeze(), (2, 0, 1)))))\n",
        "\n",
        "pool_max = MaxPooling2D(pool_size=f, strides=s)\n",
        "pooled_max = pool_max(x)\n",
        "\n",
        "pooled_max_t = np.transpose(pooled_max.numpy().squeeze(), (2, 0, 1))\n",
        "print('pooled_max(tensorflow): {}\\n{}'.format(pooled_max.shape, \n",
        "                                              pooled_max_t))\n",
        "\n",
        "\n",
        "x = x.numpy().squeeze()\n",
        "(n_H - f)/s + 1\n",
        "n_H_ = math.floor((n_H - f)/s + 1)\n",
        "n_W_ = math.floor((n_W - f)/s + 1)\n",
        "pooled_max_man = np.zeros(shape=(n_H_, n_W_, n_C))\n",
        "\n",
        "for c in range(n_C):\n",
        "  c_image = x[:, :, c]\n",
        "\n",
        "  h_ = 0\n",
        "  for h in range(0, n_H - f + 1, s):\n",
        "    w_ = 0\n",
        "    for w in range(0, n_W - f + 1, s):\n",
        "      window = c_image[h:h+f, w:w+f]\n",
        "      pooled_max_man[h_, w_, c] = np.max(window)\n",
        "\n",
        "      w_ += 1\n",
        "    h_ += 1\n",
        "\n",
        "\n",
        "pooled_max_t = np.transpose(pooled_max_man.squeeze(), (2, 0, 1))\n",
        "print(\"pooled_max(Manual): {}\\n{}\".format(pooled_max_man.shape,\n",
        "                                          pooled_max_t))"
      ]
    },
    {
      "cell_type": "code",
      "source": [
        "from tensorflow.keras.layers import ZeroPadding2D\n",
        "\n",
        "images = tf.random.normal(shape=(1, 28, 28, 3))\n",
        "images_ = np.transpose(images.numpy().squeeze(), (2, 0, 1))\n",
        "# print(images_)\n",
        "print(images.shape)\n",
        "\n",
        "zero_padding = ZeroPadding2D(padding=2)\n",
        "y = zero_padding(images)\n",
        "\n",
        "print(y.shape)\n",
        "# print( np.transpose(y.numpy().squeeze(), (2, 0, 1)))\n",
        "\n"
      ],
      "metadata": {
        "colab": {
          "base_uri": "https://localhost:8080/"
        },
        "id": "Lq1Ljs4KqURw",
        "outputId": "a66fc696-2c74-41c1-f478-73bc70a5616b"
      },
      "execution_count": 8,
      "outputs": [
        {
          "output_type": "stream",
          "name": "stdout",
          "text": [
            "(1, 28, 28, 3)\n",
            "(1, 32, 32, 3)\n"
          ]
        }
      ]
    },
    {
      "cell_type": "code",
      "source": [
        "from tensorflow.keras.layers import Conv2D\n",
        "\n",
        "images = tf.random.normal(shape=(1, 28, 28, 3))\n",
        "conv = Conv2D(filters=1, kernel_size=3, padding='same')\n",
        "y = conv(images)\n",
        "print(images.shape)"
      ],
      "metadata": {
        "colab": {
          "base_uri": "https://localhost:8080/"
        },
        "id": "hpptETcDfTMq",
        "outputId": "563d4920-5762-4343-ede7-96a13aeac27b"
      },
      "execution_count": 11,
      "outputs": [
        {
          "output_type": "stream",
          "name": "stdout",
          "text": [
            "(1, 28, 28, 3)\n"
          ]
        }
      ]
    },
    {
      "cell_type": "code",
      "source": [
        "from tensorflow.keras.layers import MaxPooling2D\n",
        "\n",
        "images = tf.random.normal(shape=(1, 28, 28, 3))\n",
        "pool = MaxPooling2D(pool_size=3, strides=2)\n",
        "y = pool(images)\n",
        "\n",
        "print(images.shape)\n",
        "print(y.shape)"
      ],
      "metadata": {
        "colab": {
          "base_uri": "https://localhost:8080/"
        },
        "id": "8ePQJmMvbsp2",
        "outputId": "518e1d1e-4825-45f8-e407-e2c4a31e3510"
      },
      "execution_count": 15,
      "outputs": [
        {
          "output_type": "stream",
          "name": "stdout",
          "text": [
            "(1, 28, 28, 3)\n",
            "(1, 13, 13, 3)\n"
          ]
        }
      ]
    },
    {
      "cell_type": "code",
      "source": [
        ""
      ],
      "metadata": {
        "id": "dP5K12KEcl_h"
      },
      "execution_count": null,
      "outputs": []
    }
  ]
}