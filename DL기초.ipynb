{
  "nbformat": 4,
  "nbformat_minor": 0,
  "metadata": {
    "colab": {
      "name": "DL기초.ipynb",
      "provenance": [],
      "authorship_tag": "ABX9TyO3H2aDaIoIYNstJRitKufk",
      "include_colab_link": true
    },
    "kernelspec": {
      "name": "python3",
      "display_name": "Python 3"
    },
    "language_info": {
      "name": "python"
    }
  },
  "cells": [
    {
      "cell_type": "markdown",
      "metadata": {
        "id": "view-in-github",
        "colab_type": "text"
      },
      "source": [
        "<a href=\"https://colab.research.google.com/github/answjddn005/Pytorch-Practice/blob/main/DL%EA%B8%B0%EC%B4%88.ipynb\" target=\"_parent\"><img src=\"https://colab.research.google.com/assets/colab-badge.svg\" alt=\"Open In Colab\"/></a>"
      ]
    },
    {
      "cell_type": "code",
      "source": [
        "import tensorflow as tf\n",
        "\n",
        "import numpy as np\n",
        "\n",
        "from tensorflow.math import exp\n",
        "from tensorflow.linalg import matmul\n",
        "from tensorflow.keras.layers import Dense\n",
        "\n",
        "N, n_feature = 4, 10 \n",
        "\n",
        "X = tf.random.normal(shape=(N, n_feature))\n",
        "\n",
        "n_neuron = 3\n",
        "dense = Dense(units=n_neuron, activation='sigmoid')\n",
        "Y_tf = dense(X)\n",
        "\n",
        "W, B = dense.get_weights()\n",
        "\n",
        "print(\"Y(tensorflow): \\n\", Y_tf.numpy())\n",
        "\n",
        "z = matmul(X, W) + B\n",
        "Y_man_matmul = 1/(1 + exp(-z))\n",
        "\n",
        "print(\"Y(with matmul):\\n\", Y_man_matmul.numpy())\n",
        "\n",
        "Y_man_vec = np.zeros(shape=(N, n_neuron))\n",
        "for x_idx in range(N):\n",
        "  x = X[x_idx]\n",
        "\n",
        "  for nu_idx in range(n_neuron):\n",
        "    w, b = W[:, nu_idx], B[nu_idx]\n",
        "\n",
        "    z = tf.reduce_sum(x * w) + b\n",
        "    a = 1/(1 +np.exp(-z))\n",
        "    Y_man_vec[x_idx, nu_idx] = a\n",
        "\n",
        "print(\"Y(with dot products): \\n\", Y_man_vec)"
      ],
      "metadata": {
        "id": "XwTLXyP5wBD2",
        "colab": {
          "base_uri": "https://localhost:8080/"
        },
        "outputId": "d3cc8011-ccd8-4cb9-a88e-350753c9295c"
      },
      "execution_count": 18,
      "outputs": [
        {
          "output_type": "stream",
          "name": "stdout",
          "text": [
            "Y(tensorflow): \n",
            " [[0.9160638  0.92377216 0.3755081 ]\n",
            " [0.27800018 0.26821098 0.36862057]\n",
            " [0.4827083  0.78619206 0.48585546]\n",
            " [0.49566472 0.34335482 0.89656895]]\n",
            "Y(with matmul):\n",
            " [[0.9160637  0.9237721  0.37550813]\n",
            " [0.2780002  0.26821095 0.36862054]\n",
            " [0.48270833 0.78619206 0.48585543]\n",
            " [0.49566472 0.3433548  0.8965689 ]]\n",
            "Y(with dot products): \n",
            " [[0.91606376 0.92377215 0.37550808]\n",
            " [0.27800019 0.26821095 0.36862057]\n",
            " [0.48270829 0.78619203 0.48585541]\n",
            " [0.49566473 0.34335479 0.89656894]]\n"
          ]
        }
      ]
    },
    {
      "cell_type": "code",
      "source": [
        "n_neurons = [3, 5]\n",
        "\n",
        "dense1 = Dense(units=n_neurons[0], activation='sigmoid')\n",
        "dense2 = Dense(units=n_neurons[1], activation='sigmoid')\n",
        "\n",
        "A1 = dense1(X)\n",
        "Y = dense2(A1)\n",
        "\n",
        "W1, B1 = dense1.get_weights()\n",
        "W2, B2 = dense2.get_weights()\n",
        "\n",
        "\n",
        "print(\"X: {}\\n\".format(X.shape))\n",
        "\n",
        "print(\"W1: \", W1.shape)\n",
        "print(\"B1: \", B1.shape)\n",
        "\n",
        "print(\"A1: {}\\n\".format(A1.shape))\n",
        "print(\"W2 \", W2.shape)\n",
        "print(\"B2, \", B2.shape)\n",
        "\n",
        "print(\"Y: {}\\n\".format(Y.shape))"
      ],
      "metadata": {
        "colab": {
          "base_uri": "https://localhost:8080/"
        },
        "id": "D5lapE3EKKAW",
        "outputId": "d094a3d5-b2bd-46a0-d694-279b54c35fbd"
      },
      "execution_count": 24,
      "outputs": [
        {
          "output_type": "stream",
          "name": "stdout",
          "text": [
            "X: (4, 10)\n",
            "\n",
            "W1:  (10, 3)\n",
            "B1:  (3,)\n",
            "A1: (4, 3)\n",
            "\n",
            "W2  (3, 5)\n",
            "B2,  (5,)\n",
            "Y: (4, 5)\n",
            "\n"
          ]
        }
      ]
    },
    {
      "cell_type": "code",
      "source": [
        "n_neurons = [10, 20, 30, 40, 50, 60, 70, 80, 90, 100]\n",
        "\n",
        "dense_layers = list()\n",
        "for n_neuron1 in n_neurons:\n",
        "  dense = Dense(units=n_neuron1, activation='relu')\n",
        "  dense_layers.append(dense)\n",
        "\n",
        "print(\"Input: \", X.shape)\n",
        "for dense_idx, dense in enumerate(dense_layers):\n",
        "  X = dense(X)\n",
        "  print(\"After dense layer \", dense_idx+1)\n",
        "  print(X.shape, '\\n')\n",
        "\n",
        "Y = X"
      ],
      "metadata": {
        "colab": {
          "base_uri": "https://localhost:8080/"
        },
        "id": "Hq_M8n-MR8Qs",
        "outputId": "01d209ff-8f88-4882-a9bf-09fd86663ae7"
      },
      "execution_count": 37,
      "outputs": [
        {
          "output_type": "stream",
          "name": "stdout",
          "text": [
            "Input:  (4, 10)\n",
            "After dense layer  1\n",
            "(4, 10) \n",
            "\n",
            "After dense layer  2\n",
            "(4, 20) \n",
            "\n",
            "After dense layer  3\n",
            "(4, 30) \n",
            "\n",
            "After dense layer  4\n",
            "(4, 40) \n",
            "\n",
            "After dense layer  5\n",
            "(4, 50) \n",
            "\n",
            "After dense layer  6\n",
            "(4, 60) \n",
            "\n",
            "After dense layer  7\n",
            "(4, 70) \n",
            "\n",
            "After dense layer  8\n",
            "(4, 80) \n",
            "\n",
            "After dense layer  9\n",
            "(4, 90) \n",
            "\n",
            "After dense layer  10\n",
            "(4, 100) \n",
            "\n"
          ]
        }
      ]
    },
    {
      "cell_type": "code",
      "source": [
        "X_cp = tf.identity(X)\n",
        "\n",
        "n_neurons = [3, 4, 5]\n",
        "\n",
        "dense_layers = list()\n",
        "\n",
        "for n_neuron1 in n_neurons:\n",
        "  dense = Dense(units=n_neuron1, activation='sigmoid')\n",
        "  dense_layers.append(dense)\n",
        "\n",
        "W, B = list(), list()\n",
        "for dense_idx, dense in enumerate(dense_layers):\n",
        "  X = dense(X)\n",
        "  w, b = dense.get_weights()\n",
        "\n",
        "  W.append(w)\n",
        "  B.append(b)\n",
        "\n",
        "print(\"X(tensorflow): \", X.numpy())\n",
        "\n",
        "for layer_idx in range(len(n_neurons)):\n",
        "  w, b = W[layer_idx], B[layer_idx]\n",
        "\n",
        "  X_cp = matmul(X_cp, w) + b\n",
        "  X_cp = 1/(1 + exp(-X_cp))\n",
        "\n",
        "print('Y(Maunal): \\n', X_cp.numpy())"
      ],
      "metadata": {
        "colab": {
          "base_uri": "https://localhost:8080/"
        },
        "id": "Cd0li2pLTuTq",
        "outputId": "b17e6e9e-4f49-49bc-eba4-a52e0b5b068c"
      },
      "execution_count": 47,
      "outputs": [
        {
          "output_type": "stream",
          "name": "stdout",
          "text": [
            "X(tensorflow):  [[0.32114315 0.48301685 0.3993367  0.57164276 0.4877478 ]\n",
            " [0.32114315 0.48301685 0.3993367  0.57164276 0.4877478 ]\n",
            " [0.32114315 0.48301685 0.3993367  0.57164276 0.4877478 ]\n",
            " [0.32114315 0.48301685 0.3993367  0.57164276 0.4877478 ]]\n",
            "Y(Maunal): \n",
            " [[0.32114315 0.48301688 0.3993367  0.57164276 0.48774776]\n",
            " [0.32114315 0.48301688 0.3993367  0.57164276 0.48774776]\n",
            " [0.32114315 0.48301688 0.3993367  0.57164276 0.48774776]\n",
            " [0.32114315 0.48301688 0.3993367  0.57164276 0.48774776]]\n"
          ]
        }
      ]
    },
    {
      "cell_type": "code",
      "source": [
        "from tensorflow.keras.layers import Dense\n",
        "from tensorflow.keras.models import Sequential\n",
        "\n",
        "model = Sequential()\n",
        "model.add(Dense(units=10, activaiton='sigmoid'))\n",
        "model.add(Dense(units=20, activation='sigmoid'))"
      ],
      "metadata": {
        "id": "u1A5ykziXVz6"
      },
      "execution_count": 48,
      "outputs": []
    },
    {
      "cell_type": "code",
      "source": [
        "from tensorflow.keras.models import Model\n",
        "class TestModel(Model):\n",
        "  def __init__(self):\n",
        "    super(TestModel, self).__init__()\n",
        "\n",
        "    self.dense1 = Dense(units=10, activation='sigmoid')\n",
        "    self.dense2 = Dense(units=20, activation='sigmoid')\n",
        "\n",
        "model = TestModel()\n",
        "print(model.dense1)\n",
        "print(model.dense2)"
      ],
      "metadata": {
        "colab": {
          "base_uri": "https://localhost:8080/"
        },
        "id": "GNSIRKo2eiiU",
        "outputId": "0cc3a9fa-2a2e-4843-9bf3-fd18958f783c"
      },
      "execution_count": 52,
      "outputs": [
        {
          "output_type": "stream",
          "name": "stdout",
          "text": [
            "<keras.layers.core.dense.Dense object at 0x7fe2e062bb10>\n",
            "<keras.layers.core.dense.Dense object at 0x7fe2e0686290>\n"
          ]
        }
      ]
    },
    {
      "cell_type": "code",
      "source": [
        "import tensorflow as tf\n",
        "from tensorflow.keras.layers import Dense\n",
        "from tensorflow.keras.models import Sequential\n",
        "from tensorflow.keras.models import Model\n",
        "\n",
        "\n",
        "X = tf.random.normal(shape=(4, 10))\n",
        "\n",
        "model = Sequential()\n",
        "model.add(Dense(units=10, activation='sigmoid'))\n",
        "model.add(Dense(units=20, activation='sigmoid'))\n",
        "\n",
        "Y = model(X)\n",
        "\n",
        "class TestModel(Model):\n",
        "  def __init__(self):\n",
        "    super(TestModel, self).__init__()\n",
        "\n",
        "    self.dense1 = Dense(units=10, activation='sigmoid')\n",
        "    self.dense2 = Dense(units=20, activation='sigmoid')\n",
        "\n",
        "  def call(self, x):\n",
        "    x = self.dense1(x)\n",
        "    x = self.dense2(x)\n",
        "    return x\n",
        "\n",
        "model1 = TestModel()\n",
        " Y = model1(X)"
      ],
      "metadata": {
        "colab": {
          "base_uri": "https://localhost:8080/"
        },
        "id": "uMpciadWgfEc",
        "outputId": "c5f7b3f8-14b6-4af3-e0dc-8d3c74483000"
      },
      "execution_count": 56,
      "outputs": [
        {
          "output_type": "stream",
          "name": "stdout",
          "text": [
            "[[0.6738721  0.29830164 0.36661482 0.6043039  0.5436932  0.42093182\n",
            "  0.5881985  0.5396225  0.48334408 0.75441253 0.5121683  0.6150243\n",
            "  0.4338801  0.5091558  0.52578706 0.6050348  0.3972675  0.47691962\n",
            "  0.5139247  0.34930134]\n",
            " [0.6241122  0.3340735  0.3840988  0.4983276  0.5532251  0.45255008\n",
            "  0.5420944  0.480397   0.5100609  0.77785134 0.5059263  0.6585937\n",
            "  0.36498505 0.567686   0.4619151  0.53294784 0.37265906 0.47373942\n",
            "  0.63384765 0.30350024]\n",
            " [0.59918123 0.3912526  0.3533038  0.5213855  0.5315356  0.42013243\n",
            "  0.55214864 0.53795534 0.4823567  0.7346326  0.52737916 0.6207779\n",
            "  0.52634287 0.6059091  0.5288371  0.4963849  0.3757424  0.51915556\n",
            "  0.5696839  0.39041135]\n",
            " [0.5765786  0.35097736 0.39352405 0.4541151  0.52313185 0.46564144\n",
            "  0.5187617  0.4724307  0.59421927 0.727908   0.44994983 0.7012198\n",
            "  0.3603722  0.554608   0.5029072  0.5541806  0.3940758  0.45050222\n",
            "  0.6718704  0.2726711 ]]\n",
            "<keras.layers.core.dense.Dense object at 0x7fe2e05b50d0>\n",
            "<keras.layers.core.dense.Dense object at 0x7fe2e4de8c50>\n"
          ]
        }
      ]
    },
    {
      "cell_type": "code",
      "source": [
        "model = Sequential()\n",
        "model.add(Dense(units=10, activation='sigmoid'))\n",
        "model.add(Dense(units=20, activation='sigmoid'))\n",
        "\n",
        "Y = model(X)\n",
        "\n",
        "print(model.layers)\n",
        "print(type(model.layers))\n",
        "\n",
        "for layer in model.layers:\n",
        "  w, b = layer.get_weights()\n",
        "  print(w.shape, b.shape)"
      ],
      "metadata": {
        "colab": {
          "base_uri": "https://localhost:8080/"
        },
        "id": "b5fcOQVNhwrq",
        "outputId": "76d4a2fc-8184-40dd-ff5d-911da0d4adc7"
      },
      "execution_count": 64,
      "outputs": [
        {
          "output_type": "stream",
          "name": "stdout",
          "text": [
            "[<keras.layers.core.dense.Dense object at 0x7fe2e0563110>, <keras.layers.core.dense.Dense object at 0x7fe2e0563790>]\n",
            "<class 'list'>\n",
            "(10, 10) (10,)\n",
            "(10, 20) (20,)\n"
          ]
        }
      ]
    },
    {
      "cell_type": "code",
      "source": [
        "model = Sequential()\n",
        "model.add(Dense(units=10, activation='sigmoid'))\n",
        "model.add(Dense(units=20, activation='sigmoid'))\n",
        "\n",
        "Y = model(X)\n",
        "\n",
        "print(type(model.trainable_variables))\n",
        "print(len(model.trainable_variables))\n",
        "\n",
        "for train_var in model.trainable_variables:\n",
        "  print(train_var.shape)"
      ],
      "metadata": {
        "colab": {
          "base_uri": "https://localhost:8080/"
        },
        "id": "rIH-psXqk4MJ",
        "outputId": "2195d77c-8ccb-49b8-e8a8-5b616f4d715a"
      },
      "execution_count": 69,
      "outputs": [
        {
          "output_type": "stream",
          "name": "stdout",
          "text": [
            "<class 'list'>\n",
            "4\n",
            "(10, 10)\n",
            "(10,)\n",
            "(10, 20)\n",
            "(20,)\n"
          ]
        }
      ]
    },
    {
      "cell_type": "code",
      "source": [
        ""
      ],
      "metadata": {
        "id": "jM5e-_hOmQs-"
      },
      "execution_count": null,
      "outputs": []
    }
  ]
}